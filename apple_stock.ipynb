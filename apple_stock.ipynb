{
 "cells": [
  {
   "cell_type": "code",
   "execution_count": 2,
   "metadata": {},
   "outputs": [],
   "source": [
    "import numpy as np\n",
    "import pandas as pd\n",
    "from tensorflow import keras\n",
    "import matplotlib.pyplot as plt\n",
    "from sklearn.preprocessing import MinMaxScaler\n",
    "from sklearn.model_selection import train_test_split\n",
    "from tensorflow.keras.callbacks import EarlyStopping"
   ]
  },
  {
   "cell_type": "code",
   "execution_count": 3,
   "metadata": {},
   "outputs": [],
   "source": [
    "apple_df = pd.read_csv('AAPL.csv')"
   ]
  },
  {
   "cell_type": "code",
   "execution_count": 4,
   "metadata": {},
   "outputs": [
    {
     "data": {
      "text/plain": [
       "(251, 7)"
      ]
     },
     "execution_count": 4,
     "metadata": {},
     "output_type": "execute_result"
    }
   ],
   "source": [
    "apple_df.shape"
   ]
  },
  {
   "cell_type": "code",
   "execution_count": 5,
   "metadata": {},
   "outputs": [
    {
     "data": {
      "text/html": [
       "<div>\n",
       "<style scoped>\n",
       "    .dataframe tbody tr th:only-of-type {\n",
       "        vertical-align: middle;\n",
       "    }\n",
       "\n",
       "    .dataframe tbody tr th {\n",
       "        vertical-align: top;\n",
       "    }\n",
       "\n",
       "    .dataframe thead th {\n",
       "        text-align: right;\n",
       "    }\n",
       "</style>\n",
       "<table border=\"1\" class=\"dataframe\">\n",
       "  <thead>\n",
       "    <tr style=\"text-align: right;\">\n",
       "      <th></th>\n",
       "      <th>Date</th>\n",
       "      <th>Open</th>\n",
       "      <th>High</th>\n",
       "      <th>Low</th>\n",
       "      <th>Close</th>\n",
       "      <th>Adj Close</th>\n",
       "      <th>Volume</th>\n",
       "    </tr>\n",
       "  </thead>\n",
       "  <tbody>\n",
       "    <tr>\n",
       "      <th>0</th>\n",
       "      <td>2018-08-15</td>\n",
       "      <td>209.220001</td>\n",
       "      <td>210.740005</td>\n",
       "      <td>208.330002</td>\n",
       "      <td>210.240005</td>\n",
       "      <td>207.027420</td>\n",
       "      <td>28807600</td>\n",
       "    </tr>\n",
       "    <tr>\n",
       "      <th>1</th>\n",
       "      <td>2018-08-16</td>\n",
       "      <td>211.750000</td>\n",
       "      <td>213.809998</td>\n",
       "      <td>211.470001</td>\n",
       "      <td>213.320007</td>\n",
       "      <td>210.060333</td>\n",
       "      <td>28500400</td>\n",
       "    </tr>\n",
       "    <tr>\n",
       "      <th>2</th>\n",
       "      <td>2018-08-17</td>\n",
       "      <td>213.440002</td>\n",
       "      <td>217.949997</td>\n",
       "      <td>213.160004</td>\n",
       "      <td>217.580002</td>\n",
       "      <td>214.255234</td>\n",
       "      <td>35427000</td>\n",
       "    </tr>\n",
       "    <tr>\n",
       "      <th>3</th>\n",
       "      <td>2018-08-20</td>\n",
       "      <td>218.100006</td>\n",
       "      <td>219.179993</td>\n",
       "      <td>215.110001</td>\n",
       "      <td>215.460007</td>\n",
       "      <td>212.167633</td>\n",
       "      <td>30287700</td>\n",
       "    </tr>\n",
       "    <tr>\n",
       "      <th>4</th>\n",
       "      <td>2018-08-21</td>\n",
       "      <td>216.800003</td>\n",
       "      <td>217.190002</td>\n",
       "      <td>214.029999</td>\n",
       "      <td>215.039993</td>\n",
       "      <td>211.754028</td>\n",
       "      <td>26159800</td>\n",
       "    </tr>\n",
       "  </tbody>\n",
       "</table>\n",
       "</div>"
      ],
      "text/plain": [
       "         Date        Open        High         Low       Close   Adj Close  \\\n",
       "0  2018-08-15  209.220001  210.740005  208.330002  210.240005  207.027420   \n",
       "1  2018-08-16  211.750000  213.809998  211.470001  213.320007  210.060333   \n",
       "2  2018-08-17  213.440002  217.949997  213.160004  217.580002  214.255234   \n",
       "3  2018-08-20  218.100006  219.179993  215.110001  215.460007  212.167633   \n",
       "4  2018-08-21  216.800003  217.190002  214.029999  215.039993  211.754028   \n",
       "\n",
       "     Volume  \n",
       "0  28807600  \n",
       "1  28500400  \n",
       "2  35427000  \n",
       "3  30287700  \n",
       "4  26159800  "
      ]
     },
     "execution_count": 5,
     "metadata": {},
     "output_type": "execute_result"
    }
   ],
   "source": [
    "apple_df.head()"
   ]
  },
  {
   "cell_type": "code",
   "execution_count": 6,
   "metadata": {},
   "outputs": [
    {
     "data": {
      "text/plain": [
       "Date         0\n",
       "Open         0\n",
       "High         0\n",
       "Low          0\n",
       "Close        0\n",
       "Adj Close    0\n",
       "Volume       0\n",
       "dtype: int64"
      ]
     },
     "execution_count": 6,
     "metadata": {},
     "output_type": "execute_result"
    }
   ],
   "source": [
    "#checking for null values\n",
    "apple_df.isna().sum()"
   ]
  },
  {
   "cell_type": "code",
   "execution_count": 7,
   "metadata": {},
   "outputs": [
    {
     "name": "stdout",
     "output_type": "stream",
     "text": [
      "<class 'pandas.core.frame.DataFrame'>\n",
      "RangeIndex: 251 entries, 0 to 250\n",
      "Data columns (total 7 columns):\n",
      " #   Column     Non-Null Count  Dtype  \n",
      "---  ------     --------------  -----  \n",
      " 0   Date       251 non-null    object \n",
      " 1   Open       251 non-null    float64\n",
      " 2   High       251 non-null    float64\n",
      " 3   Low        251 non-null    float64\n",
      " 4   Close      251 non-null    float64\n",
      " 5   Adj Close  251 non-null    float64\n",
      " 6   Volume     251 non-null    int64  \n",
      "dtypes: float64(5), int64(1), object(1)\n",
      "memory usage: 13.9+ KB\n"
     ]
    }
   ],
   "source": [
    "apple_df.info()"
   ]
  },
  {
   "cell_type": "code",
   "execution_count": 8,
   "metadata": {},
   "outputs": [],
   "source": [
    "#converting the dataype of 'Date' col to 'datetime'\n",
    "apple_df['Date'] = pd.to_datetime(apple_df['Date'])"
   ]
  },
  {
   "cell_type": "code",
   "execution_count": 9,
   "metadata": {},
   "outputs": [],
   "source": [
    "#making the 'Date' col as index\n",
    "apple_df.set_index('Date', inplace = True)"
   ]
  },
  {
   "cell_type": "code",
   "execution_count": 10,
   "metadata": {},
   "outputs": [
    {
     "name": "stdout",
     "output_type": "stream",
     "text": [
      "<class 'pandas.core.frame.DataFrame'>\n",
      "DatetimeIndex: 251 entries, 2018-08-15 to 2019-08-14\n",
      "Data columns (total 6 columns):\n",
      " #   Column     Non-Null Count  Dtype  \n",
      "---  ------     --------------  -----  \n",
      " 0   Open       251 non-null    float64\n",
      " 1   High       251 non-null    float64\n",
      " 2   Low        251 non-null    float64\n",
      " 3   Close      251 non-null    float64\n",
      " 4   Adj Close  251 non-null    float64\n",
      " 5   Volume     251 non-null    int64  \n",
      "dtypes: float64(5), int64(1)\n",
      "memory usage: 13.7 KB\n"
     ]
    }
   ],
   "source": [
    "apple_df.info()"
   ]
  },
  {
   "cell_type": "code",
   "execution_count": 11,
   "metadata": {},
   "outputs": [],
   "source": [
    "#sort the indexes\n",
    "apple_df.sort_index(inplace = True)"
   ]
  },
  {
   "cell_type": "code",
   "execution_count": 12,
   "metadata": {},
   "outputs": [
    {
     "data": {
      "text/html": [
       "<div>\n",
       "<style scoped>\n",
       "    .dataframe tbody tr th:only-of-type {\n",
       "        vertical-align: middle;\n",
       "    }\n",
       "\n",
       "    .dataframe tbody tr th {\n",
       "        vertical-align: top;\n",
       "    }\n",
       "\n",
       "    .dataframe thead th {\n",
       "        text-align: right;\n",
       "    }\n",
       "</style>\n",
       "<table border=\"1\" class=\"dataframe\">\n",
       "  <thead>\n",
       "    <tr style=\"text-align: right;\">\n",
       "      <th></th>\n",
       "      <th>Open</th>\n",
       "      <th>High</th>\n",
       "      <th>Low</th>\n",
       "      <th>Close</th>\n",
       "      <th>Adj Close</th>\n",
       "      <th>Volume</th>\n",
       "    </tr>\n",
       "    <tr>\n",
       "      <th>Date</th>\n",
       "      <th></th>\n",
       "      <th></th>\n",
       "      <th></th>\n",
       "      <th></th>\n",
       "      <th></th>\n",
       "      <th></th>\n",
       "    </tr>\n",
       "  </thead>\n",
       "  <tbody>\n",
       "    <tr>\n",
       "      <th>2018-08-15</th>\n",
       "      <td>209.220001</td>\n",
       "      <td>210.740005</td>\n",
       "      <td>208.330002</td>\n",
       "      <td>210.240005</td>\n",
       "      <td>207.027420</td>\n",
       "      <td>28807600</td>\n",
       "    </tr>\n",
       "    <tr>\n",
       "      <th>2018-08-16</th>\n",
       "      <td>211.750000</td>\n",
       "      <td>213.809998</td>\n",
       "      <td>211.470001</td>\n",
       "      <td>213.320007</td>\n",
       "      <td>210.060333</td>\n",
       "      <td>28500400</td>\n",
       "    </tr>\n",
       "    <tr>\n",
       "      <th>2018-08-17</th>\n",
       "      <td>213.440002</td>\n",
       "      <td>217.949997</td>\n",
       "      <td>213.160004</td>\n",
       "      <td>217.580002</td>\n",
       "      <td>214.255234</td>\n",
       "      <td>35427000</td>\n",
       "    </tr>\n",
       "    <tr>\n",
       "      <th>2018-08-20</th>\n",
       "      <td>218.100006</td>\n",
       "      <td>219.179993</td>\n",
       "      <td>215.110001</td>\n",
       "      <td>215.460007</td>\n",
       "      <td>212.167633</td>\n",
       "      <td>30287700</td>\n",
       "    </tr>\n",
       "    <tr>\n",
       "      <th>2018-08-21</th>\n",
       "      <td>216.800003</td>\n",
       "      <td>217.190002</td>\n",
       "      <td>214.029999</td>\n",
       "      <td>215.039993</td>\n",
       "      <td>211.754028</td>\n",
       "      <td>26159800</td>\n",
       "    </tr>\n",
       "  </tbody>\n",
       "</table>\n",
       "</div>"
      ],
      "text/plain": [
       "                  Open        High         Low       Close   Adj Close  \\\n",
       "Date                                                                     \n",
       "2018-08-15  209.220001  210.740005  208.330002  210.240005  207.027420   \n",
       "2018-08-16  211.750000  213.809998  211.470001  213.320007  210.060333   \n",
       "2018-08-17  213.440002  217.949997  213.160004  217.580002  214.255234   \n",
       "2018-08-20  218.100006  219.179993  215.110001  215.460007  212.167633   \n",
       "2018-08-21  216.800003  217.190002  214.029999  215.039993  211.754028   \n",
       "\n",
       "              Volume  \n",
       "Date                  \n",
       "2018-08-15  28807600  \n",
       "2018-08-16  28500400  \n",
       "2018-08-17  35427000  \n",
       "2018-08-20  30287700  \n",
       "2018-08-21  26159800  "
      ]
     },
     "execution_count": 12,
     "metadata": {},
     "output_type": "execute_result"
    }
   ],
   "source": [
    "apple_df.head()"
   ]
  },
  {
   "cell_type": "code",
   "execution_count": 13,
   "metadata": {},
   "outputs": [],
   "source": [
    "# Apply log transformation to Volume to stabilize variance\n",
    "apple_df['Log_Volume'] = np.log(apple_df['Volume'])"
   ]
  },
  {
   "cell_type": "code",
   "execution_count": 14,
   "metadata": {},
   "outputs": [],
   "source": [
    "#deleting the original column of volume\n",
    "apple_df.drop(columns = ['Volume'], inplace = True)"
   ]
  },
  {
   "cell_type": "code",
   "execution_count": null,
   "metadata": {},
   "outputs": [],
   "source": []
  }
 ],
 "metadata": {
  "kernelspec": {
   "display_name": "Python 3",
   "language": "python",
   "name": "python3"
  },
  "language_info": {
   "codemirror_mode": {
    "name": "ipython",
    "version": 3
   },
   "file_extension": ".py",
   "mimetype": "text/x-python",
   "name": "python",
   "nbconvert_exporter": "python",
   "pygments_lexer": "ipython3",
   "version": "3.11.3"
  }
 },
 "nbformat": 4,
 "nbformat_minor": 2
}
