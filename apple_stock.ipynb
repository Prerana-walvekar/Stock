{
 "cells": [
  {
   "cell_type": "markdown",
   "metadata": {},
   "source": [
    "Data Loading\n"
   ]
  },
  {
   "cell_type": "code",
   "execution_count": 32,
   "metadata": {},
   "outputs": [],
   "source": [
    "import numpy as np\n",
    "import pandas as pd\n",
    "from tensorflow import keras\n",
    "import matplotlib.pyplot as plt\n",
    "from sklearn.preprocessing import MinMaxScaler\n",
    "from sklearn.model_selection import train_test_split\n",
    "from tensorflow.keras.callbacks import EarlyStopping\n",
    "from sklearn.metrics import mean_squared_error\n"
   ]
  },
  {
   "cell_type": "code",
   "execution_count": 3,
   "metadata": {},
   "outputs": [],
   "source": [
    "apple_df = pd.read_csv('AAPL.csv')"
   ]
  },
  {
   "cell_type": "code",
   "execution_count": null,
   "metadata": {},
   "outputs": [],
   "source": [
    "apple_df.shape"
   ]
  },
  {
   "cell_type": "code",
   "execution_count": null,
   "metadata": {},
   "outputs": [],
   "source": [
    "apple_df.head()"
   ]
  },
  {
   "cell_type": "markdown",
   "metadata": {},
   "source": [
    "Data Pre-Processing"
   ]
  },
  {
   "cell_type": "code",
   "execution_count": null,
   "metadata": {},
   "outputs": [],
   "source": [
    "#checking for null values\n",
    "apple_df.isna().sum()"
   ]
  },
  {
   "cell_type": "code",
   "execution_count": null,
   "metadata": {},
   "outputs": [],
   "source": [
    "apple_df.info()"
   ]
  },
  {
   "cell_type": "code",
   "execution_count": 8,
   "metadata": {},
   "outputs": [],
   "source": [
    "#converting the dataype of 'Date' col to 'datetime'\n",
    "apple_df['Date'] = pd.to_datetime(apple_df['Date'])"
   ]
  },
  {
   "cell_type": "code",
   "execution_count": 9,
   "metadata": {},
   "outputs": [],
   "source": [
    "#making the 'Date' col as index\n",
    "apple_df.set_index('Date', inplace = True)"
   ]
  },
  {
   "cell_type": "code",
   "execution_count": null,
   "metadata": {},
   "outputs": [],
   "source": [
    "apple_df.info()"
   ]
  },
  {
   "cell_type": "code",
   "execution_count": 11,
   "metadata": {},
   "outputs": [],
   "source": [
    "#sort the indexes\n",
    "apple_df.sort_index(inplace = True)"
   ]
  },
  {
   "cell_type": "code",
   "execution_count": null,
   "metadata": {},
   "outputs": [],
   "source": [
    "apple_df.head()"
   ]
  },
  {
   "cell_type": "code",
   "execution_count": 13,
   "metadata": {},
   "outputs": [],
   "source": [
    "# Apply log transformation to Volume to stabilize variance\n",
    "apple_df['Log_Volume'] = np.log(apple_df['Volume'])"
   ]
  },
  {
   "cell_type": "code",
   "execution_count": 14,
   "metadata": {},
   "outputs": [],
   "source": [
    "#deleting the original column of volume\n",
    "apple_df.drop(columns = ['Volume'], inplace = True)"
   ]
  },
  {
   "cell_type": "code",
   "execution_count": null,
   "metadata": {},
   "outputs": [],
   "source": [
    "apple_df.head()\n"
   ]
  },
  {
   "cell_type": "code",
   "execution_count": 16,
   "metadata": {},
   "outputs": [],
   "source": [
    "#normalizing the data\n",
    "scaler = MinMaxScaler()\n",
    "scaled_values = scaler.fit_transform(apple_df[apple_df.columns])"
   ]
  },
  {
   "cell_type": "code",
   "execution_count": null,
   "metadata": {},
   "outputs": [],
   "source": [
    "scaled_values"
   ]
  },
  {
   "cell_type": "code",
   "execution_count": 18,
   "metadata": {},
   "outputs": [],
   "source": [
    "#converting the array into dataframe\n",
    "apple_scaled_df = pd.DataFrame(scaled_values, columns = apple_df.columns, index = apple_df.index)"
   ]
  },
  {
   "cell_type": "code",
   "execution_count": null,
   "metadata": {},
   "outputs": [],
   "source": [
    "apple_scaled_df.head()"
   ]
  },
  {
   "cell_type": "markdown",
   "metadata": {},
   "source": [
    "Plotting the Column\n"
   ]
  },
  {
   "cell_type": "code",
   "execution_count": null,
   "metadata": {},
   "outputs": [],
   "source": [
    "plt.rcParams['figure.figsize'] = (15, 15)\n",
    "figure, axes = plt.subplots(6)\n",
    "\n",
    "for ax, col in zip(axes, apple_scaled_df.columns):\n",
    "  ax.plot(apple_scaled_df[col])\n",
    "  ax.set_title(col)\n",
    "  ax.axes.xaxis.set_visible(False)"
   ]
  },
  {
   "cell_type": "markdown",
   "metadata": {},
   "source": [
    "Creating the sliding window sequence"
   ]
  },
  {
   "cell_type": "code",
   "execution_count": 21,
   "metadata": {},
   "outputs": [],
   "source": [
    "window_size = 60\n",
    "\n",
    "def create_sequence(data, window_size):\n",
    "    X = []\n",
    "    y = []\n",
    "    for i in range(window_size, len(data)):\n",
    "        X.append(data.iloc[i-window_size:i].values)\n",
    "        y.append(data.iloc[i].values)\n",
    "    return np.array(X), np.array(y)\n",
    "\n",
    "X, y = create_sequence(apple_scaled_df, window_size)"
   ]
  },
  {
   "cell_type": "code",
   "execution_count": null,
   "metadata": {},
   "outputs": [],
   "source": [
    "X.shape, y.shape"
   ]
  },
  {
   "cell_type": "code",
   "execution_count": null,
   "metadata": {},
   "outputs": [],
   "source": [
    "X_train, X_test, y_train, y_test = train_test_split(X, y, test_size = 0.2, random_state=42)\n",
    "X_train.shape, y_train.shape, X_test.shape, y_test.shape"
   ]
  },
  {
   "cell_type": "code",
   "execution_count": null,
   "metadata": {},
   "outputs": [],
   "source": [
    "X_train.shape[1], X_train.shape[2], y_train.shape[1]"
   ]
  },
  {
   "cell_type": "markdown",
   "metadata": {},
   "source": [
    "Building the LSTM Model\n"
   ]
  },
  {
   "cell_type": "code",
   "execution_count": null,
   "metadata": {},
   "outputs": [],
   "source": [
    "model = keras.Sequential([\n",
    "    # Adding the first LSTM layer with Dropout\n",
    "    keras.layers.LSTM(units = 50, return_sequences=True, input_shape = (X_train.shape[1], X_train.shape[2])),\n",
    "    keras.layers.Dropout(0.3),\n",
    "\n",
    "    # Adding the second LSTM layer with Dropout\n",
    "    keras.layers.LSTM(units = 50, return_sequences=True),\n",
    "    keras.layers.Dropout(0.3),\n",
    "\n",
    "    # Adding the third LSTM layer with Dropout\n",
    "    keras.layers.LSTM(units = 50, return_sequences=False),\n",
    "    keras.layers.Dropout(0.3),\n",
    "\n",
    "    # Adding a Dense output layer\n",
    "    keras.layers.Dense(y_train.shape[1])\n",
    "])"
   ]
  },
  {
   "cell_type": "code",
   "execution_count": 26,
   "metadata": {},
   "outputs": [],
   "source": [
    "#compilation\n",
    "model.compile(optimizer = 'adam',\n",
    "              loss = 'mean_squared_error',\n",
    "              metrics = ['RootMeanSquaredError'])"
   ]
  },
  {
   "cell_type": "code",
   "execution_count": 27,
   "metadata": {},
   "outputs": [],
   "source": [
    "#Early stopping condition\n",
    "early_stopping = EarlyStopping(monitor='val_loss',\n",
    "                               patience=10,\n",
    "                               restore_best_weights=True)"
   ]
  },
  {
   "cell_type": "code",
   "execution_count": null,
   "metadata": {},
   "outputs": [],
   "source": [
    "history = model.fit(X_train, y_train,\n",
    "                    validation_split = 0.2,\n",
    "                    epochs=100,\n",
    "                    batch_size=3,\n",
    "                    callbacks=[early_stopping])"
   ]
  },
  {
   "cell_type": "code",
   "execution_count": null,
   "metadata": {},
   "outputs": [],
   "source": [
    "# Making predictions on the test data\n",
    "predictions = model.predict(X_test)"
   ]
  },
  {
   "cell_type": "code",
   "execution_count": 30,
   "metadata": {},
   "outputs": [],
   "source": [
    "# Inverse scaling to get the original values\n",
    "predictions = scaler.inverse_transform(predictions)\n",
    "y_test_rescaled = scaler.inverse_transform(y_test)"
   ]
  },
  {
   "cell_type": "code",
   "execution_count": null,
   "metadata": {},
   "outputs": [],
   "source": [
    "# Plotting the close column predictions\n",
    "plt.figure(figsize=(10, 5))\n",
    "\n",
    "# Assuming the 'close' column is at index 0 in your dataset\n",
    "col_index = apple_scaled_df.columns.get_loc(\"close\")  # Get the index of 'close' column\n",
    "\n",
    "# Plot the actual and predicted values for the 'close' column\n",
    "plt.plot(y_test_rescaled[:, col_index], color='blue', label='Actual Close Price')\n",
    "plt.plot(predictions[:, col_index], color='red', label='Predicted Close Price')\n",
    "\n",
    "# Add titles and labels\n",
    "plt.title('Close Price Prediction')\n",
    "plt.xlabel('Time')\n",
    "plt.ylabel('Close Price')\n",
    "plt.legend()\n",
    "\n",
    "plt.show()\n"
   ]
  },
  {
   "cell_type": "code",
   "execution_count": null,
   "metadata": {},
   "outputs": [],
   "source": [
    "\n",
    "# RMSE Calculation\n",
    "\n",
    "\n",
    "\n",
    "# Assuming the 'close' column is at index 0 in your dataset\n",
    "col_index = apple_scaled_df.columns.get_loc(\"close\")  # Index of the 'close' column\n",
    "\n",
    "# Extract actual and predicted values for the 'close' column\n",
    "actual_close = y_test_rescaled[:, col_index]\n",
    "predicted_close = predictions[:, col_index]\n",
    "\n",
    "# Calculate RMSE\n",
    "rmse_close = np.sqrt(mean_squared_error(actual_close, predicted_close))\n",
    "\n",
    "# Calculate Mean of Actual Close Prices\n",
    "mean_actual_close = np.mean(actual_close)\n",
    "\n",
    "# Accuracy in percentage\n",
    "accuracy_close = (1 - (rmse_close / mean_actual_close)) * 100\n",
    "\n",
    "# Display results\n",
    "print(f\"Close Price RMSE: {rmse_close:.2f}\")\n",
    "print(f\"Close Price Prediction Accuracy: {accuracy_close:.2f}%\")\n"
   ]
  }
 ],
 "metadata": {
  "kernelspec": {
   "display_name": "Python 3",
   "language": "python",
   "name": "python3"
  },
  "language_info": {
   "codemirror_mode": {
    "name": "ipython",
    "version": 3
   },
   "file_extension": ".py",
   "mimetype": "text/x-python",
   "name": "python",
   "nbconvert_exporter": "python",
   "pygments_lexer": "ipython3",
   "version": "3.11.3"
  }
 },
 "nbformat": 4,
 "nbformat_minor": 2
}
